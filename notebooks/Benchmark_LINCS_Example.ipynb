{
 "cells": [
  {
   "cell_type": "code",
   "execution_count": 22,
   "id": "f3afa75b",
   "metadata": {},
   "outputs": [
    {
     "name": "stdout",
     "output_type": "stream",
     "text": [
      "The autoreload extension is already loaded. To reload it, use:\n",
      "  %reload_ext autoreload\n"
     ]
    }
   ],
   "source": [
    "import sys\n",
    "import os\n",
    "import pickle\n",
    "from scipy import sparse\n",
    "import scanpy as sc\n",
    "import anndata as ad\n",
    "from anndata import AnnData\n",
    "import scvi\n",
    "import pandas as pd\n",
    "import numpy as np\n",
    "\n",
    "import torch\n",
    "import torch.nn.functional as F\n",
    "import torch.nn as nn\n",
    "\n",
    "from perturbnet.util import * \n",
    "from perturbnet.cinn.flow import * \n",
    "from perturbnet.chemicalvae.chemicalVAE import *\n",
    "from perturbnet.data_vae.vae import *\n",
    "from perturbnet.cinn.flow_generate import TFVAEZ_CheckNet2Net\n",
    "from tqdm import tqdm\n",
    "import pickle5\n",
    "from perturbnet.baselines.knn import *\n",
    "from sklearn.neighbors import NearestNeighbors\n",
    "\n",
    "\n",
    "%load_ext autoreload\n",
    "%autoreload 2\n",
    "%matplotlib inline"
   ]
  },
  {
   "cell_type": "markdown",
   "id": "cb80b9f6",
   "metadata": {},
   "source": [
    "# Data Preparation"
   ]
  },
  {
   "cell_type": "code",
   "execution_count": 5,
   "id": "165faae6",
   "metadata": {},
   "outputs": [
    {
     "name": "stdout",
     "output_type": "stream",
     "text": [
      "(674279, 28)\n"
     ]
    },
    {
     "name": "stderr",
     "output_type": "stream",
     "text": [
      "/home/wzqian/.local/lib/python3.7/site-packages/anndata/_core/anndata.py:121: ImplicitModificationWarning: Transforming to str index.\n"
     ]
    },
    {
     "name": "stdout",
     "output_type": "stream",
     "text": [
      "(527626, 29)\n"
     ]
    }
   ],
   "source": [
    "some_path = \"\"\n",
    "\n",
    "path_cinn_model = some_path + 'cinn_iso_clean/100ep/100ep/'\n",
    "path_data = \"\"\n",
    "path_chemvae_model = some_path + \"/chemicalvae/zinc/model_params_525.pt\"\n",
    "\n",
    "\n",
    "path_vae_model_train = some_path + '/cellvae/150ep/model/'\n",
    "path_chem_onehot = some_path + \"/zinc/\"\n",
    "\n",
    "adata = ad.read_h5ad(os.path.join(path_data, \"lincs_corrected_isoforms_splits.h5ad\"))\n",
    "with open(some_path + \"/LINCS-Drugs/rank_genes_group.pkl\", \"rb\") as fh:\n",
    "    degs = pickle5.load(fh)\n",
    "adata.uns[\"rank_genes_groups\"] = degs\n",
    "    \n",
    "adata_save_index = np.array(adata.obs[adata.obs[\"perturb_string_chemvae_flag\"] == 1].index).astype(int)\n",
    "adata = adata[adata_save_index, :].copy()    \n",
    "print(adata.obs.shape)\n",
    "adata.obs = adata.obs.reset_index()\n",
    "    \n",
    "adata_save_index = np.array(adata.obs[adata.obs[\"chem_iso_saved_flag\"] != \"iso_removed\"].index).astype(int)\n",
    "adata = adata[adata_save_index, :].copy()    \n",
    "print(adata.obs.shape)\n",
    "adata.obs = adata.obs.reset_index(drop = True)\n",
    "    \n",
    "adata_test_index = np.array(adata.obs[adata.obs[\"holdout1\"] == \"test\"].index).astype(int)\n",
    "adata_test = adata[adata_test_index, :].copy()\n",
    "    \n",
    "adata_train_index = np.array(adata.obs[adata.obs[\"holdout1\"] == \"train\"].index).astype(int)\n",
    "adata_train = adata[adata_train_index, :].copy()\n",
    "data_chem_onehot = np.load(os.path.join(path_chem_onehot, \"onehot_zinc.npy\"))\n",
    "usedata = adata_test.X\n",
    "alldata = adata.X\n",
    "\n",
    "perturb_with_onehot_kept, perturb_with_onehot_removed = np.array(adata_train.obs[\"perturb_string\"]), np.array(adata_test.obs[\"perturb_string\"])\n",
    "trt_obs_list, trt_unseen_list = np.unique(perturb_with_onehot_kept), np.unique(perturb_with_onehot_removed)    \n",
    "onehot_unseen_idx = []\n",
    "for i in range(len(trt_unseen_list)):\n",
    "    trt = trt_unseen_list[i]\n",
    "    onehot_idx = np.where(adata.uns[\"ordered_all_smile\"] == trt)[0][0]\n",
    "    onehot_unseen_idx.append(onehot_idx)\n",
    "    unseen_onehot = adata.uns[\"ordered_all_onehot\"][onehot_unseen_idx]\n",
    "\n",
    "onehot_seen_idx = []\n",
    "for i in range(len(trt_obs_list)):\n",
    "    trt = trt_obs_list[i]\n",
    "    onehot_idx = np.where(adata.uns[\"ordered_all_smile\"] == trt)[0][0]\n",
    "    onehot_seen_idx.append(onehot_idx)\n",
    "seen_onehot = adata.uns[\"ordered_all_onehot\"][onehot_seen_idx]    \n",
    "    \n",
    "\n",
    "\n",
    "\n",
    "\n",
    "\n",
    "#Zsample = vae_train.encode(usedata)\n"
   ]
  },
  {
   "cell_type": "markdown",
   "id": "3af52670",
   "metadata": {},
   "source": [
    "# PerturbNet"
   ]
  },
  {
   "cell_type": "code",
   "execution_count": null,
   "id": "39d14ebd",
   "metadata": {},
   "outputs": [],
   "source": [
    "vae_train = VAE(num_cells_train = usedata.shape[0], x_dimension = usedata.shape[1], learning_rate = 1e-4, BNTrainingMode = False)\n",
    "vae_train.restore_model(tf.train.latest_checkpoint(path_vae_model_train))\n",
    "\n",
    "# (2) load models\n",
    "device = \"cuda\" if torch.cuda.is_available() else \"cpu\"\n",
    "\n",
    "model_chemvae = ChemicalVAE(n_char = data_chem_onehot.shape[2],max_len = data_chem_onehot.shape[1]).to(device)\n",
    "model_chemvae.load_state_dict(torch.load(path_chemvae_model, map_location = device))\n",
    "model_chemvae.eval()\n",
    "\n",
    "\n",
    "std_model = Standardize(data_all = data_chem_onehot, model = model_chemvae, device = device)\n",
    "\n",
    "\n",
    "\n",
    "perturbToOnehot = {}\n",
    "for i in range(trt_unseen_list.shape[0]):\n",
    "    perturbToOnehot[trt_unseen_list[i]] = i    \n",
    "        \n",
    "        \n",
    "torch.manual_seed(42)\n",
    "flow_model = ConditionalFlatCouplingFlow(conditioning_dim = 196,embedding_dim = 10, conditioning_depth = 2, n_flows = 20, \n",
    "                               in_channels = 10, hidden_dim = 1024, hidden_depth = 2, activation = \"none\", conditioner_use_bn = True)\n",
    "\n",
    "model_c = Net2NetFlow_TFVAEFlow(configured_flow = flow_model, first_stage_data = usedata, cond_stage_data = perturb_with_onehot_removed,\n",
    "                          perturbToOnehotLib = perturbToOnehot, oneHotData = unseen_onehot, model_con = model_chemvae, \n",
    "                          std_model = std_model,sess = vae_train.sess, enc_ph = vae_train.x, z_gen_data_v = vae_train.z_mean,\n",
    "                          is_training = vae_train.is_training)\n",
    "\n",
    "model_c.to(device = device)\n",
    "\n",
    "model_c.load(path_cinn_model)\n",
    "model_c.eval()\n",
    "\n",
    "model_g = model_c.model_con\n",
    "model_g.eval()\n",
    "\n",
    "perturbnet_model = TFVAEZ_CheckNet2Net(model_c, device, vae_train.sess, vae_train.x_hat, vae_train.z_mean, vae_train.is_training)"
   ]
  },
  {
   "cell_type": "code",
   "execution_count": 11,
   "id": "f54d5f27",
   "metadata": {},
   "outputs": [],
   "source": [
    "fidscore_cal = fidscore()\n",
    "adata.var[\"gene_idx\"] = np.arange(0,adata.var.shape[0],1)\n",
    "perturb = []\n",
    "ncell = []\n",
    "n_large = []\n",
    "r2 = []\n",
    "r2_deg = []\n",
    "r2_large = []\n",
    "pear = []\n",
    "pear_deg = []\n",
    "pear_large = []\n",
    "np.random.seed(2023)\n",
    "\n",
    "    \n",
    "    \n",
    "for indice_trt in range(len(trt_unseen_list)):\n",
    "\n",
    "    trt_type = trt_unseen_list[indice_trt]\n",
    "    pert = trt_type\n",
    "    \n",
    "    idx_trt_type = np.where(perturb_with_onehot_removed == trt_type)[0]\n",
    "\n",
    "    if idx_trt_type.shape[0] > 1000:\n",
    "        idx_trt_type = np.random.choice(idx_trt_type, 1000, replace = False)\n",
    "    # make eval consistent with chemcpa\n",
    "    elif idx_trt_type.shape[0] <= 5:\n",
    "        continue  \n",
    "    if pert == \"CS(=O)C\":\n",
    "        continue\n",
    "\n",
    "    #onehot_indice_trt = np.tile(unseen_onehot[[indice_trt]], (len(idx_trt_type), 1, 1))\n",
    "    onehot_indice_trt = np.tile(unseen_onehot[[indice_trt]], (500, 1, 1))\n",
    "    _, _, _, embdata_torch = model_g(torch.tensor(onehot_indice_trt).float().to(device))\n",
    "    embdata_np = std_model.standardize_z(embdata_torch.cpu().detach().numpy())\n",
    "        \n",
    "    DEG_gene = adata.uns[\"rank_genes_groups\"][\"names\"][trt_type]\n",
    "    DEG_idx = np.array(adata.var.loc[DEG_gene][\"gene_idx\"])\n",
    "\n",
    "    real_data = usedata[idx_trt_type]\n",
    "    _, fake_data = perturbnet_model.sample_data(embdata_np)\n",
    "        \n",
    "    ## evaluation\n",
    "    r2_value = fidscore_cal.calculate_r_square(real_data, fake_data)\n",
    "    pear_value = fidscore_cal.calculate_pearson(real_data, fake_data)\n",
    "\n",
    "        \n",
    "    real_data_deg = real_data[:,DEG_idx]\n",
    "    fake_data_deg = fake_data[:,DEG_idx]\n",
    "\n",
    "\n",
    "    r2_deg_value = fidscore_cal.calculate_r_square(real_data_deg, fake_data_deg)\n",
    "    pear_deg_value =  fidscore_cal.calculate_pearson(real_data_deg, fake_data_deg)\n",
    "    \n",
    "    large_effect_idx =  DEG_idx[abs(adata.uns[\"rank_genes_groups\"][\"logfoldchanges\"][pert])>=1]\n",
    "\n",
    "    num_large =  sum(abs(adata.uns[\"rank_genes_groups\"][\"logfoldchanges\"][pert])>=1)\n",
    "        \n",
    "    if num_large <=1:\n",
    "        r2_large_value=1.5\n",
    "        pear_large_value=1.5\n",
    "    else:\n",
    "        real_data_large = real_data[:,large_effect_idx ]\n",
    "        fake_data_large = fake_data[:,large_effect_idx ]\n",
    "        r2_large_value = fidscore_cal.calculate_r_square(real_data_large, fake_data_large)\n",
    "        pear_large_value = fidscore_cal.calculate_pearson(real_data_large , fake_data_large)\n",
    "        \n",
    "\n",
    "    perturb.append(pert)\n",
    "    ncell.append(len(idx_trt_type))\n",
    "    n_large.append(num_large)\n",
    "    r2.append(r2_value)\n",
    "    r2_deg.append(r2_deg_value)\n",
    "    r2_large.append(r2_large_value)\n",
    "    pear.append(pear_value)\n",
    "    pear_deg.append(pear_deg_value)\n",
    "    pear_large.append(pear_large_value)\n",
    "\n",
    "\n",
    "results_PerturbNet = pd.DataFrame({\"perturbation\":perturb, \"number_real_cells_used\":ncell,\"n_large\":n_large,\n",
    "                        \"r2\":r2,\n",
    "                        \"r2_deg\":r2_deg,\n",
    "                        \"r2_large\":r2_large,\n",
    "                         \"pear\":pear,\n",
    "                        \"pear_deg\":pear_deg,\n",
    "                        \"pear_large\":pear_large\n",
    "                       })\n",
    "    "
   ]
  },
  {
   "cell_type": "code",
   "execution_count": 24,
   "id": "10bc124b",
   "metadata": {},
   "outputs": [
    {
     "data": {
      "text/plain": [
       "(1889, 9)"
      ]
     },
     "execution_count": 24,
     "metadata": {},
     "output_type": "execute_result"
    }
   ],
   "source": [
    "results_PerturbNet.shape"
   ]
  },
  {
   "cell_type": "markdown",
   "id": "0cc72383",
   "metadata": {},
   "source": [
    "# ChemCPA"
   ]
  },
  {
   "cell_type": "code",
   "execution_count": 14,
   "id": "8cdfd21b",
   "metadata": {},
   "outputs": [
    {
     "name": "stderr",
     "output_type": "stream",
     "text": [
      "100%|██████████| 1888/1888 [00:04<00:00, 423.08it/s]\n"
     ]
    }
   ],
   "source": [
    "data_path = some_path + \"pred_dict_iso_clean.pkl\"\n",
    "with open(data_path, \"rb\") as fh:\n",
    "    pred_dict = pickle5.load(fh)\n",
    "    \n",
    "    \n",
    "perturb = []\n",
    "ncell = []\n",
    "n_large = []\n",
    "r2 = []\n",
    "r2_deg = []\n",
    "r2_large = []\n",
    "pear = []\n",
    "pear_deg = []\n",
    "pear_large = []\n",
    "np.random.seed(2023)\n",
    "\n",
    "\n",
    "for pert, pred  in tqdm(pred_dict.items()):\n",
    "    \n",
    "\n",
    "    fake_data = pred[0]\n",
    "    real_data = pred[1]\n",
    "    real_data = real_data.detach().numpy()\n",
    "    fake_data = fake_data.detach().numpy()\n",
    "\n",
    "    if real_data.shape[0] > 1000:\n",
    "        real_data = real_data[np.random.choice(real_data.shape[0], 1000, replace = False)]\n",
    "    elif real_data.shape[0] <= 5:\n",
    "        continue\n",
    "\n",
    "\n",
    "    DEG_gene = adata.uns[\"rank_genes_groups\"][\"names\"][pert]\n",
    "    DEG_idx = np.array(adata.var.loc[DEG_gene][\"gene_idx\"])\n",
    "    \n",
    "    \n",
    "    r2_value = fidscore_cal.calculate_r_square(real_data, fake_data)\n",
    "    pear_value = fidscore_cal.calculate_pearson(real_data, fake_data)\n",
    "\n",
    "\n",
    "        \n",
    "    ## Extra evaluation on DEG rsquare\n",
    "    real_data_deg = real_data[:,DEG_idx]\n",
    "    fake_data_deg = fake_data[:,DEG_idx]\n",
    "\n",
    "\n",
    "    r2_deg_value = fidscore_cal.calculate_r_square(real_data_deg, fake_data_deg)\n",
    "    pear_deg_value =  fidscore_cal.calculate_pearson(real_data_deg, fake_data_deg)\n",
    "\n",
    "    \n",
    "    large_effect_idx =  DEG_idx[abs(adata.uns[\"rank_genes_groups\"][\"logfoldchanges\"][pert])>=1]\n",
    "\n",
    "    num_large =  sum(abs(adata.uns[\"rank_genes_groups\"][\"logfoldchanges\"][pert])>=1)\n",
    "\n",
    "\n",
    "    if num_large <=1:\n",
    "        r2_large_value=1.5\n",
    "        pear_large_value=1.5\n",
    "    else:\n",
    "        real_data_large = real_data[:,large_effect_idx ]\n",
    "        fake_data_large = fake_data[:,large_effect_idx ]\n",
    "        r2_large_value = fidscore_cal.calculate_r_square(real_data_large, fake_data_large)\n",
    "        pear_large_value =  fidscore_cal.calculate_pearson(real_data_large, fake_data_large)\n",
    "\n",
    "    perturb.append(pert)\n",
    "    ncell.append(real_data.shape[0])\n",
    "    n_large.append(num_large)\n",
    "    r2.append(r2_value)\n",
    "    r2_deg.append(r2_deg_value)\n",
    "    r2_large.append(r2_large_value)\n",
    "    pear.append(pear_value)\n",
    "    pear_deg.append(pear_deg_value)\n",
    "    pear_large.append(pear_large_value)\n",
    "results_chemCPA = pd.DataFrame({\"perturbation\":perturb, \"number_real_cells_used\":ncell,\"n_large\":n_large,\n",
    "                        \"r2\":r2,\n",
    "                        \"r2_deg\":r2_deg,\n",
    "                        \"r2_large\":r2_large,\n",
    "                         \"pear\":pear,\n",
    "                        \"pear_deg\":pear_deg,\n",
    "                        \"pear_large\":pear_large\n",
    "                       })"
   ]
  },
  {
   "cell_type": "markdown",
   "id": "0bc97ae9",
   "metadata": {},
   "source": [
    "# Training Sample"
   ]
  },
  {
   "cell_type": "code",
   "execution_count": 30,
   "id": "7e526107",
   "metadata": {},
   "outputs": [],
   "source": [
    "adata.var[\"gene_idx\"] = np.arange(0,adata.var.shape[0],1)\n",
    "perturb = []\n",
    "ncell = []\n",
    "n_large = []\n",
    "r2 = []\n",
    "r2_deg = []\n",
    "r2_large = []\n",
    "pear = []\n",
    "pear_deg = []\n",
    "pear_large = []\n",
    "np.random.seed(2023)\n",
    "count = 0\n",
    "    \n",
    "for indice_trt in range(len(trt_unseen_list)):\n",
    "\n",
    "    trt_type = trt_unseen_list[indice_trt]\n",
    "    pert = trt_type\n",
    "    \n",
    "    seen_data = adata_train.X\n",
    "    seen_data_idx = list(range(seen_data.shape[0]))\n",
    "    idx_trt_type = np.where(perturb_with_onehot_removed == trt_type)[0]\n",
    "    if idx_trt_type.shape[0] > 1000:\n",
    "        idx_trt_type = np.random.choice(idx_trt_type, 1000, replace = False)\n",
    "    # make eval consistent with chemcpa\n",
    "    elif idx_trt_type.shape[0] <= 5:\n",
    "        continue  \n",
    "    \n",
    "    if pert == \"CS(=O)C\":\n",
    "        continue\n",
    "        \n",
    "    DEG_gene = adata.uns[\"rank_genes_groups\"][\"names\"][trt_type]\n",
    "    DEG_idx = np.array(adata.var.loc[DEG_gene][\"gene_idx\"])\n",
    "\n",
    "    real_data = usedata[idx_trt_type]\n",
    "    \n",
    "    idx_rsample = np.random.choice(seen_data_idx, len(idx_trt_type), replace=True)\n",
    "    fake_data = seen_data[idx_rsample]\n",
    "\n",
    "        ## evaluation\n",
    "    r2_value = fidscore_cal.calculate_r_square(real_data, fake_data)\n",
    "    pear_value = fidscore_cal.calculate_pearson(real_data, fake_data)\n",
    "\n",
    "\n",
    "        \n",
    "    ## Extra evaluation on DEG rsquare\n",
    "    real_data_deg = real_data[:,DEG_idx]\n",
    "    fake_data_deg = fake_data[:,DEG_idx]\n",
    "\n",
    "\n",
    "    r2_deg_value = fidscore_cal.calculate_r_square(real_data_deg, fake_data_deg)\n",
    "    pear_deg_value = fidscore_cal.calculate_pearson(real_data_deg, fake_data_deg)\n",
    "    \n",
    "    large_effect_idx =  DEG_idx[abs(adata.uns[\"rank_genes_groups\"][\"logfoldchanges\"][pert])>=1]\n",
    "\n",
    "    num_large =  sum(abs(adata.uns[\"rank_genes_groups\"][\"logfoldchanges\"][pert])>=1)\n",
    "    if num_large <=1:\n",
    "        hd_large_value=1.5\n",
    "        r2_large_value=1.5\n",
    "        pear_large_value=1.5\n",
    "    else:\n",
    "        real_data_large = real_data[:,large_effect_idx ]\n",
    "        fake_data_large = fake_data[:,large_effect_idx ]\n",
    "        r2_large_value = fidscore_cal.calculate_r_square(real_data_large, fake_data_large)\n",
    "        pear_large_value =  fidscore_cal.calculate_pearson(real_data_large , fake_data_large)\n",
    "        \n",
    "    perturb.append(pert)\n",
    "    ncell.append(len(idx_trt_type))\n",
    "    n_large.append(num_large)\n",
    "    r2.append(r2_value)\n",
    "    r2_deg.append(r2_deg_value)\n",
    "    r2_large.append(r2_large_value)\n",
    "\n",
    "    pear.append(pear_value)\n",
    "    pear_deg.append(pear_deg_value)\n",
    "    pear_large.append(pear_large_value)\n",
    "    \n",
    "results_sample = pd.DataFrame({\"perturbation\":perturb, \"number_real_cells_used\":ncell,\"n_large\":n_large,\n",
    "                        \"r2\":r2,\n",
    "                        \"r2_deg\":r2_deg,\n",
    "                        \"r2_large\":r2_large,\n",
    "                         \"pear\":pear,\n",
    "                        \"pear_deg\":pear_deg,\n",
    "                        \"pear_large\":pear_large})"
   ]
  },
  {
   "cell_type": "markdown",
   "id": "87d0a77f",
   "metadata": {},
   "source": [
    "# KNN"
   ]
  },
  {
   "cell_type": "code",
   "execution_count": 23,
   "id": "4dde10b9",
   "metadata": {},
   "outputs": [
    {
     "name": "stderr",
     "output_type": "stream",
     "text": [
      "100%|██████████| 1988/1988 [02:37<00:00, 12.60it/s]\n"
     ]
    }
   ],
   "source": [
    "_, _, _, embdata_torch_seen = model_chemvae(torch.tensor(seen_onehot).float().to(device))\n",
    "embdata_numpy_seen = std_model.standardize_z(embdata_torch_seen.cpu().detach().numpy())\n",
    "_, _, _, embdata_torch_unseen = model_chemvae(torch.tensor(unseen_onehot).float().to(device))\n",
    "embdata_numpy_unseen = std_model.standardize_z(embdata_torch_unseen.cpu().detach().numpy())\n",
    "\n",
    "neigh = NearestNeighbors(n_neighbors=5)\n",
    "neigh_fit = neigh.fit(embdata_numpy_seen)\n",
    "\n",
    "adata.var[\"gene_idx\"] = np.arange(0,adata.var.shape[0],1)\n",
    "perturb = []\n",
    "ncell = []\n",
    "n_large = []\n",
    "r2 = []\n",
    "r2_deg = []\n",
    "r2_large = []\n",
    "pear = []\n",
    "pear_deg = []\n",
    "pear_large = []\n",
    "np.random.seed(2023)\n",
    "seen_data = adata_train.X\n",
    "seen_data_idx = list(range(seen_data.shape[0]))    \n",
    "\n",
    "for indice_trt in tqdm(range(len(trt_unseen_list))):\n",
    "\n",
    "    trt_type = trt_unseen_list[indice_trt]\n",
    "    pert = trt_type\n",
    "    \n",
    "\n",
    "    idx_trt_type = np.where(perturb_with_onehot_removed == trt_type)[0]\n",
    "    if idx_trt_type.shape[0] > 1000:\n",
    "        idx_trt_type = np.random.choice(idx_trt_type, 1000, replace = False)\n",
    "    # make eval consistent with chemcpa\n",
    "    elif idx_trt_type.shape[0] <= 5:\n",
    "        continue  \n",
    "    \n",
    "    if pert == \"CS(=O)C\":\n",
    "        continue\n",
    "        \n",
    "    DEG_gene = adata.uns[\"rank_genes_groups\"][\"names\"][trt_type]\n",
    "    DEG_idx = np.array(adata.var.loc[DEG_gene][\"gene_idx\"])\n",
    "\n",
    "    real_data = usedata[idx_trt_type]\n",
    "    \n",
    "    distances, other_trts = neigh_fit.kneighbors(embdata_numpy_unseen[[indice_trt]], 5, return_distance=True)\n",
    "    samplerNN = samplefromNeighbors(distances, other_trts)\n",
    "    idx_sample = samplerNN.samplingTrt(trt_obs_list, perturb_with_onehot_kept, len(idx_trt_type))\n",
    "    \n",
    "    #idx_rsample = np.random.choice(seen_data_idx, len(idx_trt_type), replace=True)\n",
    "    fake_data = seen_data[idx_sample]\n",
    "\n",
    "        ## evaluation\n",
    "    r2_value = fidscore_cal.calculate_r_square(real_data, fake_data)\n",
    "    pear_value = fidscore_cal.calculate_pearson(real_data, fake_data)\n",
    "\n",
    "    \n",
    "    ## Extra evaluation on DEG rsquare\n",
    "    real_data_deg = real_data[:,DEG_idx]\n",
    "    fake_data_deg = fake_data[:,DEG_idx]\n",
    "\n",
    "\n",
    "    r2_deg_value = fidscore_cal.calculate_r_square(real_data_deg, fake_data_deg)\n",
    "    pear_deg_value = fidscore_cal.calculate_pearson(real_data_deg, fake_data_deg)\n",
    "    \n",
    "    large_effect_idx =  DEG_idx[abs(adata.uns[\"rank_genes_groups\"][\"logfoldchanges\"][pert])>=1]\n",
    "\n",
    "    num_large =  sum(abs(adata.uns[\"rank_genes_groups\"][\"logfoldchanges\"][pert])>=1)\n",
    "    if num_large <=1:\n",
    "        hd_large_value=1.5\n",
    "        r2_large_value=1.5\n",
    "        pear_large_value=1.5\n",
    "    else:\n",
    "        real_data_large = real_data[:,large_effect_idx ]\n",
    "        fake_data_large = fake_data[:,large_effect_idx ]\n",
    "        r2_large_value = fidscore_cal.calculate_r_square(real_data_large, fake_data_large)\n",
    "        pear_large_value =  fidscore_cal.calculate_pearson(real_data_large , fake_data_large)\n",
    "        \n",
    "    perturb.append(pert)\n",
    "    ncell.append(len(idx_trt_type))\n",
    "    n_large.append(num_large)\n",
    "    r2.append(r2_value)\n",
    "    r2_deg.append(r2_deg_value)\n",
    "    r2_large.append(r2_large_value)\n",
    "\n",
    "    pear.append(pear_value)\n",
    "    pear_deg.append(pear_deg_value)\n",
    "    pear_large.append(pear_large_value)\n",
    "    \n",
    "results_KNN = pd.DataFrame({\"perturbation\":perturb, \"number_real_cells_used\":ncell,\"n_large\":n_large,\n",
    "                        \"r2\":r2,\n",
    "                        \"r2_deg\":r2_deg,\n",
    "                        \"r2_large\":r2_large,\n",
    "                         \"pear\":pear,\n",
    "                        \"pear_deg\":pear_deg,\n",
    "                        \"pear_large\":pear_large})\n"
   ]
  },
  {
   "cell_type": "code",
   "execution_count": 31,
   "id": "eb95c7a1",
   "metadata": {},
   "outputs": [
    {
     "name": "stderr",
     "output_type": "stream",
     "text": [
      "../perturbnet/util.py:928: SettingWithCopyWarning: \n",
      "A value is trying to be set on a copy of a slice from a DataFrame.\n",
      "Try using .loc[row_indexer,col_indexer] = value instead\n",
      "\n",
      "See the caveats in the documentation: https://pandas.pydata.org/pandas-docs/stable/user_guide/indexing.html#returning-a-view-versus-a-copy\n"
     ]
    },
    {
     "data": {
      "image/png": "[encoded data removed]",
      "text/plain": [
       "<Figure size 640x480 with 1 Axes>"
      ]
     },
     "metadata": {},
     "output_type": "display_data"
    },
    {
     "data": {
      "text/plain": [
       "<ggplot: (1418099123645)>"
      ]
     },
     "execution_count": 31,
     "metadata": {},
     "output_type": "execute_result"
    }
   ],
   "source": [
    "boxplot_metrics({\"PerturbNet\":results_PerturbNet, \"ChemCPA\":results_chemCPA, \"Training Sample\":results_sample,\n",
    "                \"KNN\": results_KNN }, metric_key = \"r2\")"
   ]
  },
  {
   "cell_type": "code",
   "execution_count": 32,
   "id": "e5ef3673",
   "metadata": {},
   "outputs": [
    {
     "name": "stderr",
     "output_type": "stream",
     "text": [
      "../perturbnet/util.py:928: SettingWithCopyWarning: \n",
      "A value is trying to be set on a copy of a slice from a DataFrame.\n",
      "Try using .loc[row_indexer,col_indexer] = value instead\n",
      "\n",
      "See the caveats in the documentation: https://pandas.pydata.org/pandas-docs/stable/user_guide/indexing.html#returning-a-view-versus-a-copy\n"
     ]
    },
    {
     "data": {
      "image/png": "[encoded data removed]",
      "text/plain": [
       "<Figure size 640x480 with 1 Axes>"
      ]
     },
     "metadata": {},
     "output_type": "display_data"
    },
    {
     "data": {
      "text/plain": [
       "<ggplot: (1418099548677)>"
      ]
     },
     "execution_count": 32,
     "metadata": {},
     "output_type": "execute_result"
    }
   ],
   "source": [
    "boxplot_metrics({\"PerturbNet\":results_PerturbNet, \"ChemCPA\":results_chemCPA, \"Training Sample\":results_sample,\n",
    "                \"KNN\": results_KNN }, metric_key = \"pear_deg\")"
   ]
  }
 ],
 "metadata": {
  "kernelspec": {
   "display_name": "Perturbnet_scvi0.7",
   "language": "python",
   "name": "perturbnet_scvi0.7"
  },
  "language_info": {
   "codemirror_mode": {
    "name": "ipython",
    "version": 3
   },
   "file_extension": ".py",
   "mimetype": "text/x-python",
   "name": "python",
   "nbconvert_exporter": "python",
   "pygments_lexer": "ipython3",
   "version": "3.7.15"
  }
 },
 "nbformat": 4,
 "nbformat_minor": 5
}
